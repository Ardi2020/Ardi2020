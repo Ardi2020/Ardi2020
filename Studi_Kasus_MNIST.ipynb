{
  "nbformat": 4,
  "nbformat_minor": 0,
  "metadata": {
    "colab": {
      "provenance": [],
      "authorship_tag": "ABX9TyPJ3Qd8KMMYKHtVnJgTpfK3",
      "include_colab_link": true
    },
    "kernelspec": {
      "name": "python3",
      "display_name": "Python 3"
    },
    "language_info": {
      "name": "python"
    }
  },
  "cells": [
    {
      "cell_type": "markdown",
      "metadata": {
        "id": "view-in-github",
        "colab_type": "text"
      },
      "source": [
        "<a href=\"https://colab.research.google.com/github/Ardi2020/Ardi2020/blob/main/Studi_Kasus_MNIST.ipynb\" target=\"_parent\"><img src=\"https://colab.research.google.com/assets/colab-badge.svg\" alt=\"Open In Colab\"/></a>"
      ]
    },
    {
      "cell_type": "code",
      "execution_count": null,
      "metadata": {
        "id": "qnUrj6uNmjaa"
      },
      "outputs": [],
      "source": []
    },
    {
      "cell_type": "markdown",
      "source": [
        "**Langkah 1: Siapkan Peralatan (Import Library)**\n",
        "\n",
        "Penjelasan: Langkah pertama dalam kode Python adalah mengimpor semua pustaka (libraries) yang kita perlukan.\n",
        "\n",
        "**Poin Kunci:** Kita mengimpor tensorflow, keras (yang sekarang ada di dalam tensorflow), layers dari Keras, numpy, dan matplotlib."
      ],
      "metadata": {
        "id": "jwQxA20Lmzs_"
      }
    },
    {
      "cell_type": "code",
      "source": [
        "# Import library utama TensorFlow\n",
        "import tensorflow as tf\n",
        "\n",
        "# Import Keras API dari TensorFlow\n",
        "from tensorflow import keras\n",
        "from tensorflow.keras import layers # Untuk mendefinisikan lapisan model\n",
        "\n",
        "# Import NumPy untuk operasi numerik (walau mungkin tak banyak dipakai langsung di sini)\n",
        "import numpy as np\n",
        "\n",
        "# Import Matplotlib untuk membuat plot/visualisasi\n",
        "import matplotlib.pyplot as plt\n",
        "\n",
        "# Cetak versi TensorFlow (praktik yang baik)\n",
        "print(\"TensorFlow version:\", tf.__version__)"
      ],
      "metadata": {
        "colab": {
          "base_uri": "https://localhost:8080/"
        },
        "id": "kaakuWyMm9VV",
        "outputId": "d7c33fb3-cc61-4a68-cb52-625ed53057a3"
      },
      "execution_count": 2,
      "outputs": [
        {
          "output_type": "stream",
          "name": "stdout",
          "text": [
            "TensorFlow version: 2.18.0\n"
          ]
        }
      ]
    },
    {
      "cell_type": "markdown",
      "source": [
        "**Langkah 2: Dapatkan Bahan Baku (Muat Data MNIST)**\n",
        "\n",
        "Penjelasan: Keras menyediakan cara super mudah untuk mengunduh dan memuat dataset populer seperti MNIST\n",
        "\n",
        "P**oin Kunci:** Kita membagi data menjadi set training (untuk melatih model) dan set testing (untuk evaluasi akhir). x berisi gambar, y berisi label (angka sebenarnya)."
      ],
      "metadata": {
        "id": "RreO2f1qoztr"
      }
    },
    {
      "cell_type": "code",
      "source": [
        "# Langsung muat dataset MNIST dari Keras\n",
        "mnist = keras.datasets.mnist\n",
        "(x_train, y_train), (x_test, y_test) = mnist.load_data()\n",
        "\n",
        "# Mari kita lihat bentuk (shape) datanya\n",
        "print(\"Dimensi x_train:\", x_train.shape)\n",
        "# Output: (60000, 28, 28) -> 60rb gambar, masing2 28x28 pixel\n",
        "print(\"Dimensi y_train:\", y_train.shape)\n",
        "# Output: (60000,) -> 60rb label (angka 0-9)\n",
        "print(\"Dimensi x_test:\", x_test.shape)\n",
        "# Output: (10000, 28, 28)\n",
        "print(\"Dimensi y_test:\", y_test.shape)\n",
        "# Output: (10000,)"
      ],
      "metadata": {
        "colab": {
          "base_uri": "https://localhost:8080/"
        },
        "id": "lU9PS6iUpA_E",
        "outputId": "db46809f-d63a-47e4-a95d-319173009bb3"
      },
      "execution_count": 3,
      "outputs": [
        {
          "output_type": "stream",
          "name": "stdout",
          "text": [
            "Downloading data from https://storage.googleapis.com/tensorflow/tf-keras-datasets/mnist.npz\n",
            "\u001b[1m11490434/11490434\u001b[0m \u001b[32m━━━━━━━━━━━━━━━━━━━━\u001b[0m\u001b[37m\u001b[0m \u001b[1m0s\u001b[0m 0us/step\n",
            "Dimensi x_train: (60000, 28, 28)\n",
            "Dimensi y_train: (60000,)\n",
            "Dimensi x_test: (10000, 28, 28)\n",
            "Dimensi y_test: (10000,)\n"
          ]
        }
      ]
    },
    {
      "cell_type": "markdown",
      "source": [
        "**Langkah 2: Bersihkan & Siapkan Bahan (Preprocessing)**\n",
        "\n",
        "Penjelasan: Data mentah perlu diproses agar sesuai untuk dimasukkan ke model ANN.\n",
        "\n",
        "**Kode (Visualisasi Singkat)**: (Opsional, tapi bagus)"
      ],
      "metadata": {
        "id": "g0nQoY8bpy3M"
      }
    },
    {
      "cell_type": "code",
      "source": [
        "# Tampilkan contoh data pertama\n",
        "plt.figure()\n",
        "plt.imshow(x_train[0], cmap=plt.cm.binary) # Tampilkan dalam grayscale\n",
        "plt.title(f\"Label Gambar Pertama: {y_train[0]}\")\n",
        "plt.colorbar()\n",
        "plt.grid(False)\n",
        "plt.show()"
      ],
      "metadata": {
        "colab": {
          "base_uri": "https://localhost:8080/",
          "height": 452
        },
        "id": "aT2kMJqZqRj0",
        "outputId": "72f31953-3d04-4b49-99c5-22d7ac303b8b"
      },
      "execution_count": 4,
      "outputs": [
        {
          "output_type": "display_data",
          "data": {
            "text/plain": [
              "<Figure size 640x480 with 2 Axes>"
            ],
            "image/png": "[encoded data removed]"
          },
          "metadata": {}
        }
      ]
    },
    {
      "cell_type": "markdown",
      "source": [
        "**Poin Kunci:** Normalisasi dan reshape adalah langkah preprocessing penting untuk dataset gambar ini saat menggunakan ANN dasar\n",
        "\n",
        "**Kode (Preprocessing Utama):**"
      ],
      "metadata": {
        "id": "ayVkETXxqeLe"
      }
    },
    {
      "cell_type": "code",
      "source": [
        "# 1. Normalisasi Nilai Piksel\n",
        "# Ubah rentang nilai piksel dari [0, 255] menjadi [0, 1]\n",
        "# Ini membantu proses training lebih stabil.\n",
        "x_train = x_train / 255.0\n",
        "x_test = x_test / 255.0\n",
        "\n",
        "# 2. Reshape Input Data\n",
        "# Model ANN sederhana (Dense layer) menerima input berupa vektor 1D.\n",
        "# Kita ubah gambar 28x28 menjadi vektor 784 elemen (28 * 28 = 784).\n",
        "x_train = x_train.reshape(60000, 784)\n",
        "x_test = x_test.reshape(10000, 784)\n",
        "\n",
        "print(\"Dimensi x_train setelah reshape:\", x_train.shape) # Output: (60000, 784)\n",
        "print(\"Dimensi x_test setelah reshape:\", x_test.shape)   # Output: (10000, 784)\n",
        "\n",
        "# 3. (Opsional) One-Hot Encode Labels (y)\n",
        "#    Contoh: angka 3 -> [0, 0, 0, 1, 0, 0, 0, 0, 0, 0]\n",
        "#    Untuk loss 'categorical_crossentropy', ini wajib.\n",
        "#    TAPI, kita akan pakai 'sparse_categorical_crossentropy'\n",
        "#    yang bisa menerima label integer langsung, jadi langkah ini bisa dilewati.\n",
        "# num_classes = 10\n",
        "# y_train = keras.utils.to_categorical(y_train, num_classes)\n",
        "# y_test = keras.utils.to_categorical(y_test, num_classes)"
      ],
      "metadata": {
        "colab": {
          "base_uri": "https://localhost:8080/"
        },
        "id": "rCa_FPUUqsMs",
        "outputId": "18e7df9c-23ad-4473-b2c2-f3072f05321c"
      },
      "execution_count": 5,
      "outputs": [
        {
          "output_type": "stream",
          "name": "stdout",
          "text": [
            "Dimensi x_train setelah reshape: (60000, 784)\n",
            "Dimensi x_test setelah reshape: (10000, 784)\n"
          ]
        }
      ]
    },
    {
      "cell_type": "markdown",
      "source": [
        "**Langkah 3: Rancang Bangunan (Bangun Arsitektur Model)**\n",
        "\n",
        "**Penjelasan:** Kita gunakan Sequential API dari Keras untuk menumpuk lapisan-lapisan ANN secara berurutan.\n",
        "\n",
        "**Input:** Vektor 784 elemen (hasil reshape gambar).\n",
        "\n",
        "**Hidden Layer:** Satu lapisan Dense dengan aktivasi ReLU.\n",
        "\n",
        "**Output Layer: **Satu lapisan Dense dengan 10 neuron (1 untuk tiap digit) dan aktivasi Softmax.\n",
        "\n",
        "**Poin Kunci:** Perhatikan definisi lapisan Dense, jumlah neuron, fungsi aktivasi (relu, softmax), dan input_shape. model.summary() sangat berguna untuk memeriksa arsitektur."
      ],
      "metadata": {
        "id": "Gi2d5kjJq-h9"
      }
    },
    {
      "cell_type": "code",
      "source": [
        "model = keras.Sequential([\n",
        "    # Lapisan pertama (Hidden Layer)\n",
        "    layers.Dense(128, activation='relu', input_shape=(784,)),\n",
        "    # 128 neuron, aktivasi ReLU.\n",
        "    # 'input_shape=(784,)' WAJIB di lapisan pertama untuk\n",
        "    # memberi tahu model bentuk input yang diharapkan.\n",
        "\n",
        "    # Lapisan kedua (Output Layer)\n",
        "    layers.Dense(10, activation='softmax')\n",
        "    # 10 neuron (sesuai jumlah kelas 0-9).\n",
        "    # Aktivasi Softmax menghasilkan distribusi probabilitas\n",
        "    # untuk setiap kelas, cocok untuk klasifikasi multi-kelas.\n",
        "])\n",
        "\n",
        "# Tampilkan ringkasan arsitektur model\n",
        "print(\"\\nRingkasan Model:\")\n",
        "model.summary()"
      ],
      "metadata": {
        "colab": {
          "base_uri": "https://localhost:8080/",
          "height": 293
        },
        "id": "qAf7NUvDEwuU",
        "outputId": "af5422c0-c363-4a9e-f1ff-a67d95486f44"
      },
      "execution_count": 6,
      "outputs": [
        {
          "output_type": "stream",
          "name": "stdout",
          "text": [
            "\n",
            "Ringkasan Model:\n"
          ]
        },
        {
          "output_type": "stream",
          "name": "stderr",
          "text": [
            "/usr/local/lib/python3.11/dist-packages/keras/src/layers/core/dense.py:87: UserWarning: Do not pass an `input_shape`/`input_dim` argument to a layer. When using Sequential models, prefer using an `Input(shape)` object as the first layer in the model instead.\n",
            "  super().__init__(activity_regularizer=activity_regularizer, **kwargs)\n"
          ]
        },
        {
          "output_type": "display_data",
          "data": {
            "text/plain": [
              "\u001b[1mModel: \"sequential\"\u001b[0m\n"
            ],
            "text/html": [
              "<pre style=\"white-space:pre;overflow-x:auto;line-height:normal;font-family:Menlo,'DejaVu Sans Mono',consolas,'Courier New',monospace\"><span style=\"font-weight: bold\">Model: \"sequential\"</span>\n",
              "</pre>\n"
            ]
          },
          "metadata": {}
        },
        {
          "output_type": "display_data",
          "data": {
            "text/plain": [
              "┏━━━━━━━━━━━━━━━━━━━━━━━━━━━━━━━━━━━━━━┳━━━━━━━━━━━━━━━━━━━━━━━━━━━━━┳━━━━━━━━━━━━━━━━━┓\n",
              "┃\u001b[1m \u001b[0m\u001b[1mLayer (type)                        \u001b[0m\u001b[1m \u001b[0m┃\u001b[1m \u001b[0m\u001b[1mOutput Shape               \u001b[0m\u001b[1m \u001b[0m┃\u001b[1m \u001b[0m\u001b[1m        Param #\u001b[0m\u001b[1m \u001b[0m┃\n",
              "┡━━━━━━━━━━━━━━━━━━━━━━━━━━━━━━━━━━━━━━╇━━━━━━━━━━━━━━━━━━━━━━━━━━━━━╇━━━━━━━━━━━━━━━━━┩\n",
              "│ dense (\u001b[38;5;33mDense\u001b[0m)                        │ (\u001b[38;5;45mNone\u001b[0m, \u001b[38;5;34m128\u001b[0m)                 │         \u001b[38;5;34m100,480\u001b[0m │\n",
              "├──────────────────────────────────────┼─────────────────────────────┼─────────────────┤\n",
              "│ dense_1 (\u001b[38;5;33mDense\u001b[0m)                      │ (\u001b[38;5;45mNone\u001b[0m, \u001b[38;5;34m10\u001b[0m)                  │           \u001b[38;5;34m1,290\u001b[0m │\n",
              "└──────────────────────────────────────┴─────────────────────────────┴─────────────────┘\n"
            ],
            "text/html": [
              "<pre style=\"white-space:pre;overflow-x:auto;line-height:normal;font-family:Menlo,'DejaVu Sans Mono',consolas,'Courier New',monospace\">┏━━━━━━━━━━━━━━━━━━━━━━━━━━━━━━━━━━━━━━┳━━━━━━━━━━━━━━━━━━━━━━━━━━━━━┳━━━━━━━━━━━━━━━━━┓\n",
              "┃<span style=\"font-weight: bold\"> Layer (type)                         </span>┃<span style=\"font-weight: bold\"> Output Shape                </span>┃<span style=\"font-weight: bold\">         Param # </span>┃\n",
              "┡━━━━━━━━━━━━━━━━━━━━━━━━━━━━━━━━━━━━━━╇━━━━━━━━━━━━━━━━━━━━━━━━━━━━━╇━━━━━━━━━━━━━━━━━┩\n",
              "│ dense (<span style=\"color: #0087ff; text-decoration-color: #0087ff\">Dense</span>)                        │ (<span style=\"color: #00d7ff; text-decoration-color: #00d7ff\">None</span>, <span style=\"color: #00af00; text-decoration-color: #00af00\">128</span>)                 │         <span style=\"color: #00af00; text-decoration-color: #00af00\">100,480</span> │\n",
              "├──────────────────────────────────────┼─────────────────────────────┼─────────────────┤\n",
              "│ dense_1 (<span style=\"color: #0087ff; text-decoration-color: #0087ff\">Dense</span>)                      │ (<span style=\"color: #00d7ff; text-decoration-color: #00d7ff\">None</span>, <span style=\"color: #00af00; text-decoration-color: #00af00\">10</span>)                  │           <span style=\"color: #00af00; text-decoration-color: #00af00\">1,290</span> │\n",
              "└──────────────────────────────────────┴─────────────────────────────┴─────────────────┘\n",
              "</pre>\n"
            ]
          },
          "metadata": {}
        },
        {
          "output_type": "display_data",
          "data": {
            "text/plain": [
              "\u001b[1m Total params: \u001b[0m\u001b[38;5;34m101,770\u001b[0m (397.54 KB)\n"
            ],
            "text/html": [
              "<pre style=\"white-space:pre;overflow-x:auto;line-height:normal;font-family:Menlo,'DejaVu Sans Mono',consolas,'Courier New',monospace\"><span style=\"font-weight: bold\"> Total params: </span><span style=\"color: #00af00; text-decoration-color: #00af00\">101,770</span> (397.54 KB)\n",
              "</pre>\n"
            ]
          },
          "metadata": {}
        },
        {
          "output_type": "display_data",
          "data": {
            "text/plain": [
              "\u001b[1m Trainable params: \u001b[0m\u001b[38;5;34m101,770\u001b[0m (397.54 KB)\n"
            ],
            "text/html": [
              "<pre style=\"white-space:pre;overflow-x:auto;line-height:normal;font-family:Menlo,'DejaVu Sans Mono',consolas,'Courier New',monospace\"><span style=\"font-weight: bold\"> Trainable params: </span><span style=\"color: #00af00; text-decoration-color: #00af00\">101,770</span> (397.54 KB)\n",
              "</pre>\n"
            ]
          },
          "metadata": {}
        },
        {
          "output_type": "display_data",
          "data": {
            "text/plain": [
              "\u001b[1m Non-trainable params: \u001b[0m\u001b[38;5;34m0\u001b[0m (0.00 B)\n"
            ],
            "text/html": [
              "<pre style=\"white-space:pre;overflow-x:auto;line-height:normal;font-family:Menlo,'DejaVu Sans Mono',consolas,'Courier New',monospace\"><span style=\"font-weight: bold\"> Non-trainable params: </span><span style=\"color: #00af00; text-decoration-color: #00af00\">0</span> (0.00 B)\n",
              "</pre>\n"
            ]
          },
          "metadata": {}
        }
      ]
    },
    {
      "cell_type": "markdown",
      "source": [
        "**Langkah 4: Tentukan Aturan Main (Compile Model)**\n",
        "\n",
        "**Penjelasan:** Sebelum melatih, kita perlu 'mengkompilasi' model, yaitu menentukan:\n",
        "\n",
        "  * optimizer: * Algoritma yang digunakan untuk mengubah bobot (misal: Adam, SGD).\n",
        "  * Loss function:* Cara mengukur seberapa salah prediksi model (misal: cross-entropy).\n",
        "  * metrics:* Ukuran performa yang ingin dipantau (misal: akurasi).\n",
        "\n",
        "\n",
        "**Poin Kunci:**\n",
        "\n",
        "optimizer='adam': Optimizer Adam adalah pilihan default yang seringkali bagus.\n",
        "\n",
        "loss='sparse_categorical_crossentropy': Loss function yang cocok jika label y kita masih berupa integer (0-9). Jika y sudah di one-hot encode, gunakan categorical_crossentropy.\n",
        "\n",
        "metrics=['accuracy']: Kita ingin melihat akurasi model selama training dan evaluasi."
      ],
      "metadata": {
        "id": "Mou1eyUPFORO"
      }
    },
    {
      "cell_type": "code",
      "source": [
        "model.compile(optimizer='adam',\n",
        "              loss='sparse_categorical_crossentropy',\n",
        "              metrics=['accuracy'])"
      ],
      "metadata": {
        "id": "NhShIw0xGR7G"
      },
      "execution_count": 8,
      "outputs": []
    },
    {
      "cell_type": "markdown",
      "source": [
        "**Langkah 4: Proses Belajar (Training Model)**\n",
        "\n",
        "**Penjelasan:** Ini adalah inti dari pembelajaran mesin. Kita \"memberi makan\" model dengan data training (x_train, y_train) agar ia belajar menyesuaikan bobotnya. Kita lakukan ini selama beberapa epoch.\n",
        "\n",
        "**Poin Kunci:**\n",
        "\n",
        "*model.fit():* Fungsi untuk memulai training.\n",
        "\n",
        "*epochs:* Berapa kali seluruh dataset training diproses.\n",
        "\n",
        "*batch_size:* Berapa banyak sampel yang diproses sebelum bobot diupdate.\n",
        "\n",
        "*validation_split=0.2:* Penting untuk memonitor performa pada data yang tidak digunakan langsung untuk update bobot (membantu deteksi overfitting). Keras akan otomatis memisahkan 20% dari x_train & y_train untuk ini.\n",
        "\n",
        "history: *italicised text* Menyimpan catatan loss & akurasi per epoch."
      ],
      "metadata": {
        "id": "ZfuQjgkhHv5K"
      }
    },
    {
      "cell_type": "code",
      "source": [
        "print(\"\\nMemulai Proses Training...\")\n",
        "\n",
        "# Tentukan jumlah epoch dan batch size\n",
        "EPOCHS = 10\n",
        "BATCH_SIZE = 128\n",
        "\n",
        "# Latih model!\n",
        "history = model.fit(x_train, y_train,\n",
        "                    epochs=EPOCHS,\n",
        "                    batch_size=BATCH_SIZE,\n",
        "                    validation_split=0.2) # Gunakan 20% data training untuk validasi\n",
        "\n",
        "print(\"Training Selesai.\")"
      ],
      "metadata": {
        "colab": {
          "base_uri": "https://localhost:8080/"
        },
        "id": "eZEwrSggTAMN",
        "outputId": "d88b00ea-f653-496a-a47e-0d193a886942"
      },
      "execution_count": 9,
      "outputs": [
        {
          "output_type": "stream",
          "name": "stdout",
          "text": [
            "\n",
            "Memulai Proses Training...\n",
            "Epoch 1/10\n",
            "\u001b[1m375/375\u001b[0m \u001b[32m━━━━━━━━━━━━━━━━━━━━\u001b[0m\u001b[37m\u001b[0m \u001b[1m4s\u001b[0m 6ms/step - accuracy: 0.8129 - loss: 0.6785 - val_accuracy: 0.9447 - val_loss: 0.2071\n",
            "Epoch 2/10\n",
            "\u001b[1m375/375\u001b[0m \u001b[32m━━━━━━━━━━━━━━━━━━━━\u001b[0m\u001b[37m\u001b[0m \u001b[1m5s\u001b[0m 7ms/step - accuracy: 0.9455 - loss: 0.1973 - val_accuracy: 0.9561 - val_loss: 0.1532\n",
            "Epoch 3/10\n",
            "\u001b[1m375/375\u001b[0m \u001b[32m━━━━━━━━━━━━━━━━━━━━\u001b[0m\u001b[37m\u001b[0m \u001b[1m5s\u001b[0m 8ms/step - accuracy: 0.9611 - loss: 0.1360 - val_accuracy: 0.9622 - val_loss: 0.1296\n",
            "Epoch 4/10\n",
            "\u001b[1m375/375\u001b[0m \u001b[32m━━━━━━━━━━━━━━━━━━━━\u001b[0m\u001b[37m\u001b[0m \u001b[1m2s\u001b[0m 6ms/step - accuracy: 0.9710 - loss: 0.1078 - val_accuracy: 0.9667 - val_loss: 0.1149\n",
            "Epoch 5/10\n",
            "\u001b[1m375/375\u001b[0m \u001b[32m━━━━━━━━━━━━━━━━━━━━\u001b[0m\u001b[37m\u001b[0m \u001b[1m3s\u001b[0m 8ms/step - accuracy: 0.9767 - loss: 0.0844 - val_accuracy: 0.9682 - val_loss: 0.1054\n",
            "Epoch 6/10\n",
            "\u001b[1m375/375\u001b[0m \u001b[32m━━━━━━━━━━━━━━━━━━━━\u001b[0m\u001b[37m\u001b[0m \u001b[1m5s\u001b[0m 6ms/step - accuracy: 0.9814 - loss: 0.0675 - val_accuracy: 0.9708 - val_loss: 0.0960\n",
            "Epoch 7/10\n",
            "\u001b[1m375/375\u001b[0m \u001b[32m━━━━━━━━━━━━━━━━━━━━\u001b[0m\u001b[37m\u001b[0m \u001b[1m3s\u001b[0m 7ms/step - accuracy: 0.9846 - loss: 0.0553 - val_accuracy: 0.9712 - val_loss: 0.0922\n",
            "Epoch 8/10\n",
            "\u001b[1m375/375\u001b[0m \u001b[32m━━━━━━━━━━━━━━━━━━━━\u001b[0m\u001b[37m\u001b[0m \u001b[1m7s\u001b[0m 13ms/step - accuracy: 0.9870 - loss: 0.0479 - val_accuracy: 0.9742 - val_loss: 0.0839\n",
            "Epoch 9/10\n",
            "\u001b[1m375/375\u001b[0m \u001b[32m━━━━━━━━━━━━━━━━━━━━\u001b[0m\u001b[37m\u001b[0m \u001b[1m3s\u001b[0m 7ms/step - accuracy: 0.9892 - loss: 0.0406 - val_accuracy: 0.9724 - val_loss: 0.0905\n",
            "Epoch 10/10\n",
            "\u001b[1m375/375\u001b[0m \u001b[32m━━━━━━━━━━━━━━━━━━━━\u001b[0m\u001b[37m\u001b[0m \u001b[1m2s\u001b[0m 6ms/step - accuracy: 0.9912 - loss: 0.0333 - val_accuracy: 0.9741 - val_loss: 0.0864\n",
            "Training Selesai.\n"
          ]
        }
      ]
    },
    {
      "cell_type": "markdown",
      "source": [],
      "metadata": {
        "id": "0MhcgyzTTh3f"
      }
    },
    {
      "cell_type": "markdown",
      "source": [
        "**Langkah 5: Ujian Akhir (Evaluasi Model)**\n",
        "\n",
        "**Penjelasan:** Setelah dilatih, kita uji performa model pada data test yang belum pernah dilihat sama sekali.\n",
        "\n",
        "**Poin Kunci: ** model.evaluate() memberikan skor loss dan akurasi (atau metrik lain yang ditentukan saat compile) pada data test. Ini adalah indikator utama seberapa baik model bisa generalisasi."
      ],
      "metadata": {
        "id": "z3FZEV8hD7uv"
      }
    },
    {
      "cell_type": "code",
      "source": [
        "print(\"\\nMengevaluasi model pada data test...\")\n",
        "test_loss, test_acc = model.evaluate(x_test, y_test, verbose=2)\n",
        "\n",
        "print(f'\\nHasil Evaluasi Data Test:')\n",
        "print(f' - Test Loss     : {test_loss:.4f}')\n",
        "print(f' - Test Accuracy : {test_acc:.4f}')"
      ],
      "metadata": {
        "colab": {
          "base_uri": "https://localhost:8080/"
        },
        "id": "bOVaizBXEMal",
        "outputId": "5adc7a8a-74eb-4ba3-f4fa-a2fb374ee312"
      },
      "execution_count": 10,
      "outputs": [
        {
          "output_type": "stream",
          "name": "stdout",
          "text": [
            "\n",
            "Mengevaluasi model pada data test...\n",
            "313/313 - 1s - 2ms/step - accuracy: 0.9752 - loss: 0.0797\n",
            "\n",
            "Hasil Evaluasi Data Test:\n",
            " - Test Loss     : 0.0797\n",
            " - Test Accuracy : 0.9752\n"
          ]
        }
      ]
    },
    {
      "cell_type": "markdown",
      "source": [
        "**Langkah 5: Menggunakan Model (Membuat Prediksi)**\n",
        "\n",
        "**Penjelasan:** Model yang sudah dilatih kini bisa digunakan untuk memprediksi label dari data baru.\n",
        "\n",
        "**Poin Kunci:** *model.predict()* menghasilkan output mentah (probabilitas). Kita gunakan *np.argmax()* untuk mendapatkan kelas final. Visualisasi membantu memahami bagaimana model memprediksi."
      ],
      "metadata": {
        "id": "s8cqrGd7UCxG"
      }
    },
    {
      "cell_type": "code",
      "source": [
        "# Dapatkan prediksi untuk seluruh data test\n",
        "predictions = model.predict(x_test)\n",
        "\n",
        "# Prediksi adalah probabilitas untuk setiap kelas (0-9)\n",
        "print(\"\\nContoh output prediksi (probabilitas) untuk gambar test pertama:\")\n",
        "print(predictions[0])\n",
        "\n",
        "# Ambil kelas dengan probabilitas tertinggi sebagai hasil prediksi\n",
        "predicted_class = np.argmax(predictions[0])\n",
        "print(f\"\\nPrediksi kelas untuk gambar test pertama: {predicted_class}\")\n",
        "print(f\"Label sebenarnya: {y_test[0]}\")\n",
        "\n",
        "# (Opsional) Visualisasi beberapa hasil prediksi\n",
        "num_rows = 3\n",
        "num_cols = 5\n",
        "num_images = num_rows*num_cols\n",
        "plt.figure(figsize=(2*2*num_cols, 2*num_rows))\n",
        "for i in range(num_images):\n",
        "  plt.subplot(num_rows, 2*num_cols, 2*i+1)\n",
        "  # Reshape kembali ke 28x28 untuk ditampilkan\n",
        "  img_display = x_test[i].reshape(28, 28)\n",
        "  plt.imshow(img_display, cmap='gray')\n",
        "  plt.axis('off')\n",
        "  plt.subplot(num_rows, 2*num_cols, 2*i+2)\n",
        "  plt.bar(range(10), predictions[i]) # Tampilkan probabilitas per kelas\n",
        "  plt.xticks(range(10))\n",
        "  plt.ylim([0, 1])\n",
        "  predicted_label = np.argmax(predictions[i])\n",
        "  color = 'green' if predicted_label == y_test[i] else 'red'\n",
        "  plt.title(f\"Pred: {predicted_label} (True: {y_test[i]})\", color=color)\n",
        "plt.tight_layout()\n",
        "plt.show()"
      ],
      "metadata": {
        "id": "ddRoZVvTUP1X"
      },
      "execution_count": null,
      "outputs": []
    },
    {
      "cell_type": "markdown",
      "source": [
        "**Menganalisis Kurva Pembelajaran**\n",
        "\n",
        "**Penjelasan:** Mem-plot loss dan akurasi pada data training vs data validasi selama epoch dapat memberi wawasan tentang proses belajar (misal: mendeteksi overfitting).\n",
        "\n",
        "**Poin Kunci: **Idealnya, kurva training dan validasi bergerak beriringan. Jika kurva validasi mulai memburuk (loss naik, akurasi turun) sementara kurva training terus membaik, itu indikasi overfitting."
      ],
      "metadata": {
        "id": "nsqxjOO7Uvty"
      }
    },
    {
      "cell_type": "code",
      "source": [
        "acc = history.history['accuracy']\n",
        "val_acc = history.history['val_accuracy']\n",
        "loss = history.history['loss']\n",
        "val_loss = history.history['val_loss']\n",
        "epochs_range = range(1, len(acc) + 1) # Jumlah epoch\n",
        "\n",
        "plt.figure(figsize=(14, 5))\n",
        "\n",
        "plt.subplot(1, 2, 1)\n",
        "plt.plot(epochs_range, acc, label='Training Accuracy')\n",
        "plt.plot(epochs_range, val_acc, label='Validation Accuracy')\n",
        "plt.legend(loc='lower right')\n",
        "plt.title('Training and Validation Accuracy')\n",
        "plt.xlabel('Epochs')\n",
        "plt.ylabel('Accuracy')\n",
        "\n",
        "plt.subplot(1, 2, 2)\n",
        "plt.plot(epochs_range, loss, label='Training Loss')\n",
        "plt.plot(epochs_range, val_loss, label='Validation Loss')\n",
        "plt.legend(loc='upper right')\n",
        "plt.title('Training and Validation Loss')\n",
        "plt.xlabel('Epochs')\n",
        "plt.ylabel('Loss')\n",
        "\n",
        "plt.show()"
      ],
      "metadata": {
        "id": "O2aThtYJU4yr"
      },
      "execution_count": null,
      "outputs": []
    },
    {
      "cell_type": "markdown",
      "source": [
        "**Rangkuman Implementasi: Dari Data ke Model**\n",
        "\n",
        "**Workflow Utama:**\n",
        "\n",
        "\n",
        "1. Import libraries.\n",
        "2. Load & Preprocess data (MNIST: load, normalize, reshape).\n",
        "3. Build model arsitektur (Sequential, Dense layers).\n",
        "4. Compile model (optimizer, loss, metrics)\n",
        "5. Train model (fit dengan data training & validasi).\n",
        "6. Evaluate model (evaluate dengan data test).\n",
        "7. Predict (predict pada data baru).\n",
        "\n",
        "\n",
        "**Pesan:** Dengan TensorFlow/Keras, kita bisa menerapkan konsep ANN untuk menyelesaikan masalah nyata dengan alur kerja yang terstruktur.\n"
      ],
      "metadata": {
        "id": "-s0aw6TNVA_V"
      }
    }
  ]
}